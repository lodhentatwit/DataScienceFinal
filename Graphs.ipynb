{
 "cells": [
  {
   "cell_type": "code",
   "execution_count": 1,
   "metadata": {},
   "outputs": [],
   "source": [
    "import pandas as pd\n",
    "import matplotlib.pyplot as plt\n",
    "import seaborn as sns"
   ]
  },
  {
   "cell_type": "code",
   "execution_count": 2,
   "metadata": {},
   "outputs": [
    {
     "data": {
      "text/plain": [
       "['rank',\n",
       " 'name',\n",
       " 'year',\n",
       " 'rating',\n",
       " 'genre',\n",
       " 'certificate',\n",
       " 'run_time',\n",
       " 'tagline',\n",
       " 'budget',\n",
       " 'box_office',\n",
       " 'casts',\n",
       " 'directors',\n",
       " 'writers']"
      ]
     },
     "execution_count": 2,
     "metadata": {},
     "output_type": "execute_result"
    }
   ],
   "source": [
    "df = pd.read_csv('Top250.csv')\n",
    "list(df.columns)"
   ]
  },
  {
   "cell_type": "code",
   "execution_count": 34,
   "metadata": {
    "scrolled": true
   },
   "outputs": [
    {
     "data": {
      "text/plain": [
       "Text(0.5, 1.0, \"Each Movie's in the Top 250 Rating\")"
      ]
     },
     "execution_count": 34,
     "metadata": {},
     "output_type": "execute_result"
    },
    {
     "data": {
      "image/png": "[encoded data removed]",
      "text/plain": [
       "<Figure size 432x288 with 1 Axes>"
      ]
     },
     "metadata": {
      "needs_background": "light"
     },
     "output_type": "display_data"
    }
   ],
   "source": [
    "sns.scatterplot(x=\"budget\", y=\"rating\", data= df);\n",
    "\n",
    "plt.xticks([])\n",
    "plt.ylabel('Rating')\n",
    "plt.title(\"Each Movie's in the Top 250 Rating\")\n",
    "\n",
    "\n"
   ]
  },
  {
   "cell_type": "code",
   "execution_count": 4,
   "metadata": {},
   "outputs": [],
   "source": [
    "#Question: Which age rating category encompasses the highest number of movies within the top 250?"
   ]
  },
  {
   "cell_type": "code",
   "execution_count": 5,
   "metadata": {},
   "outputs": [
    {
     "data": {
      "text/plain": [
       "'Each rating has its on variable\\nG - 1\\nPG - 2\\nPG-13 - 3\\nR - 4\\nNot rated - 5'"
      ]
     },
     "execution_count": 5,
     "metadata": {},
     "output_type": "execute_result"
    }
   ],
   "source": [
    "'''Each rating has its on variable\n",
    "G - 1\n",
    "PG - 2\n",
    "PG-13 - 3\n",
    "R - 4\n",
    "Not rated - 5'''"
   ]
  },
  {
   "cell_type": "code",
   "execution_count": 6,
   "metadata": {},
   "outputs": [
    {
     "name": "stdout",
     "output_type": "stream",
     "text": [
      "'1' appears 22 times in the column 'certificate'.\n"
     ]
    }
   ],
   "source": [
    "import csv\n",
    "data = 'Top250.csv'\n",
    "columnName = 'certificate'\n",
    "targetStr = '1'\n",
    "\n",
    "counter = 0\n",
    "\n",
    "with open(data, 'r') as csv_file:\n",
    "    csv_reader = csv.DictReader(csv_file)\n",
    "\n",
    "    for row in csv_reader:\n",
    "        if targetStr.lower() in row[columnName].lower():\n",
    "            counter += 1\n",
    "\n",
    "print(f\"'{targetStr}' appears {counter} times in the column '{columnName}'.\")\n"
   ]
  },
  {
   "cell_type": "code",
   "execution_count": 7,
   "metadata": {},
   "outputs": [
    {
     "name": "stdout",
     "output_type": "stream",
     "text": [
      "'2' appears 38 times in the column 'certificate'.\n"
     ]
    }
   ],
   "source": [
    "data = 'Top250.csv'\n",
    "columnName = 'certificate'\n",
    "targetStr = '2'\n",
    "\n",
    "counter = 0\n",
    "\n",
    "with open(data, 'r') as csv_file:\n",
    "    csv_reader = csv.DictReader(csv_file)\n",
    "\n",
    "    for row in csv_reader:\n",
    "        if targetStr.lower() in row[columnName].lower():\n",
    "            counter += 1\n",
    "\n",
    "print(f\"'{targetStr}' appears {counter} times in the column '{columnName}'.\")\n"
   ]
  },
  {
   "cell_type": "code",
   "execution_count": 8,
   "metadata": {
    "scrolled": true
   },
   "outputs": [
    {
     "name": "stdout",
     "output_type": "stream",
     "text": [
      "'3' appears 36 times in the column 'certificate'.\n"
     ]
    }
   ],
   "source": [
    "data = 'Top250.csv'\n",
    "columnName = 'certificate'\n",
    "targetStr = '3'\n",
    "\n",
    "counter = 0\n",
    "\n",
    "with open(data, 'r') as csv_file:\n",
    "    csv_reader = csv.DictReader(csv_file)\n",
    "\n",
    "    for row in csv_reader:\n",
    "        if targetStr.lower() in row[columnName].lower():\n",
    "            counter += 1\n",
    "\n",
    "print(f\"'{targetStr}' appears {counter} times in the column '{columnName}'.\")\n"
   ]
  },
  {
   "cell_type": "code",
   "execution_count": 9,
   "metadata": {},
   "outputs": [
    {
     "name": "stdout",
     "output_type": "stream",
     "text": [
      "'4' appears 98 times in the column 'certificate'.\n"
     ]
    }
   ],
   "source": [
    "data = 'Top250.csv'\n",
    "columnName = 'certificate'\n",
    "targetStr = '4'\n",
    "\n",
    "counter = 0\n",
    "\n",
    "with open(data, 'r') as csv_file:\n",
    "    csv_reader = csv.DictReader(csv_file)\n",
    "\n",
    "    for row in csv_reader:\n",
    "        if targetStr.lower() in row[columnName].lower():\n",
    "            counter += 1\n",
    "\n",
    "print(f\"'{targetStr}' appears {counter} times in the column '{columnName}'.\")\n"
   ]
  },
  {
   "cell_type": "code",
   "execution_count": 10,
   "metadata": {},
   "outputs": [
    {
     "name": "stdout",
     "output_type": "stream",
     "text": [
      "'5' appears 24 times in the column 'certificate'.\n"
     ]
    }
   ],
   "source": [
    "data = 'Top250.csv'\n",
    "columnName = 'certificate'\n",
    "targetStr = '5'\n",
    "\n",
    "counter = 0\n",
    "\n",
    "with open(data, 'r') as csv_file:\n",
    "    csv_reader = csv.DictReader(csv_file)\n",
    "\n",
    "    for row in csv_reader:\n",
    "        if targetStr.lower() in row[columnName].lower():\n",
    "            counter += 1\n",
    "\n",
    "print(f\"'{targetStr}' appears {counter} times in the column '{columnName}'.\")\n"
   ]
  },
  {
   "cell_type": "code",
   "execution_count": 11,
   "metadata": {
    "scrolled": true
   },
   "outputs": [
    {
     "data": {
      "image/png": "[encoded data removed]",
      "text/plain": [
       "<Figure size 432x288 with 1 Axes>"
      ]
     },
     "metadata": {},
     "output_type": "display_data"
    }
   ],
   "source": [
    "import matplotlib.pyplot as plt\n",
    "\n",
    "ageRatings = ['G', 'PG', 'PG-13', 'R', 'Non Rated']\n",
    "movies = [22, 38, 36, 98, 24]\n",
    "\n",
    "colors = ['gold', 'lightcoral', 'lightskyblue', 'lightgreen', 'darkgreen']\n",
    "\n",
    "explode = (0, 0, 0.1, 0, 0)\n",
    "\n",
    "plt.pie(movies, explode=explode, labels=ageRatings, colors=colors, autopct='%1.1f%%', startangle=300)\n",
    "\n",
    "plt.axis('equal')\n",
    "\n",
    "# Title of the pie chart\n",
    "plt.title('Distribution of the Top 250 Movies by Age Ratings')\n",
    "\n",
    "# Show the pie chart\n",
    "plt.show()\n"
   ]
  },
  {
   "cell_type": "code",
   "execution_count": 12,
   "metadata": {},
   "outputs": [],
   "source": [
    "#Question: Which genres boast the highest IMDb ratings?"
   ]
  },
  {
   "cell_type": "code",
   "execution_count": 13,
   "metadata": {},
   "outputs": [
    {
     "name": "stdout",
     "output_type": "stream",
     "text": [
      "'Action' appears 50 times in the column 'genre'.\n"
     ]
    }
   ],
   "source": [
    "data = 'Top250.csv'\n",
    "columnName = 'genre'\n",
    "targetStr = 'Action'\n",
    "\n",
    "counter = 0\n",
    "\n",
    "with open(data, 'r') as csv_file:\n",
    "    csv_reader = csv.DictReader(csv_file)\n",
    "\n",
    "    for row in csv_reader:\n",
    "        if targetStr.lower() in row[columnName].lower():\n",
    "            counter += 1\n",
    "\n",
    "print(f\"'{targetStr}' appears {counter} times in the column '{columnName}'.\")\n"
   ]
  },
  {
   "cell_type": "code",
   "execution_count": 14,
   "metadata": {},
   "outputs": [
    {
     "name": "stdout",
     "output_type": "stream",
     "text": [
      "'Drama' appears 177 times in the column 'genre'.\n"
     ]
    }
   ],
   "source": [
    "data = 'Top250.csv'\n",
    "columnName = 'genre'\n",
    "targetStr = 'Drama'\n",
    "\n",
    "counter = 0\n",
    "\n",
    "with open(data, 'r') as csv_file:\n",
    "    csv_reader = csv.DictReader(csv_file)\n",
    "\n",
    "    for row in csv_reader:\n",
    "        if targetStr.lower() in row[columnName].lower():\n",
    "            counter += 1\n",
    "\n",
    "print(f\"'{targetStr}' appears {counter} times in the column '{columnName}'.\")\n"
   ]
  },
  {
   "cell_type": "code",
   "execution_count": 15,
   "metadata": {},
   "outputs": [
    {
     "name": "stdout",
     "output_type": "stream",
     "text": [
      "'Crime' appears 51 times in the column 'genre'.\n"
     ]
    }
   ],
   "source": [
    "data = 'Top250.csv'\n",
    "columnName = 'genre'\n",
    "targetStr = 'Crime'\n",
    "\n",
    "counter = 0\n",
    "\n",
    "with open(data, 'r') as csv_file:\n",
    "    csv_reader = csv.DictReader(csv_file)\n",
    "\n",
    "    for row in csv_reader:\n",
    "        if targetStr.lower() in row[columnName].lower():\n",
    "            counter += 1\n",
    "\n",
    "print(f\"'{targetStr}' appears {counter} times in the column '{columnName}'.\")\n"
   ]
  },
  {
   "cell_type": "code",
   "execution_count": 16,
   "metadata": {},
   "outputs": [
    {
     "name": "stdout",
     "output_type": "stream",
     "text": [
      "'Biography' appears 29 times in the column 'genre'.\n"
     ]
    }
   ],
   "source": [
    "data = 'Top250.csv'\n",
    "columnName = 'genre'\n",
    "targetStr = 'Biography'\n",
    "\n",
    "counter = 0\n",
    "\n",
    "with open(data, 'r') as csv_file:\n",
    "    csv_reader = csv.DictReader(csv_file)\n",
    "\n",
    "    for row in csv_reader:\n",
    "        if targetStr.lower() in row[columnName].lower():\n",
    "            counter += 1\n",
    "\n",
    "print(f\"'{targetStr}' appears {counter} times in the column '{columnName}'.\")\n"
   ]
  },
  {
   "cell_type": "code",
   "execution_count": 17,
   "metadata": {},
   "outputs": [
    {
     "name": "stdout",
     "output_type": "stream",
     "text": [
      "'History' appears 10 times in the column 'genre'.\n"
     ]
    }
   ],
   "source": [
    "data = 'Top250.csv'\n",
    "columnName = 'genre'\n",
    "targetStr = 'History'\n",
    "\n",
    "counter = 0\n",
    "\n",
    "with open(data, 'r') as csv_file:\n",
    "    csv_reader = csv.DictReader(csv_file)\n",
    "\n",
    "    for row in csv_reader:\n",
    "        if targetStr.lower() in row[columnName].lower():\n",
    "            counter += 1\n",
    "\n",
    "print(f\"'{targetStr}' appears {counter} times in the column '{columnName}'.\")\n"
   ]
  },
  {
   "cell_type": "code",
   "execution_count": 18,
   "metadata": {},
   "outputs": [
    {
     "name": "stdout",
     "output_type": "stream",
     "text": [
      "'Adventure' appears 60 times in the column 'genre'.\n"
     ]
    }
   ],
   "source": [
    "data = 'Top250.csv'\n",
    "columnName = 'genre'\n",
    "targetStr = 'Adventure'\n",
    "\n",
    "counter = 0\n",
    "\n",
    "with open(data, 'r') as csv_file:\n",
    "    csv_reader = csv.DictReader(csv_file)\n",
    "\n",
    "    for row in csv_reader:\n",
    "        if targetStr.lower() in row[columnName].lower():\n",
    "            counter += 1\n",
    "\n",
    "print(f\"'{targetStr}' appears {counter} times in the column '{columnName}'.\")\n"
   ]
  },
  {
   "cell_type": "code",
   "execution_count": 19,
   "metadata": {},
   "outputs": [
    {
     "name": "stdout",
     "output_type": "stream",
     "text": [
      "'Family' appears 13 times in the column 'genre'.\n"
     ]
    }
   ],
   "source": [
    "data = 'Top250.csv'\n",
    "columnName = 'genre'\n",
    "targetStr = 'Family'\n",
    "\n",
    "counter = 0\n",
    "\n",
    "with open(data, 'r') as csv_file:\n",
    "    csv_reader = csv.DictReader(csv_file)\n",
    "\n",
    "    for row in csv_reader:\n",
    "        if targetStr.lower() in row[columnName].lower():\n",
    "            counter += 1\n",
    "\n",
    "print(f\"'{targetStr}' appears {counter} times in the column '{columnName}'.\")\n"
   ]
  },
  {
   "cell_type": "code",
   "execution_count": 20,
   "metadata": {},
   "outputs": [
    {
     "name": "stdout",
     "output_type": "stream",
     "text": [
      "'Fantasy' appears 14 times in the column 'genre'.\n"
     ]
    }
   ],
   "source": [
    "data = 'Top250.csv'\n",
    "columnName = 'genre'\n",
    "targetStr = 'Fantasy'\n",
    "\n",
    "counter = 0\n",
    "\n",
    "with open(data, 'r') as csv_file:\n",
    "    csv_reader = csv.DictReader(csv_file)\n",
    "\n",
    "    for row in csv_reader:\n",
    "        if targetStr.lower() in row[columnName].lower():\n",
    "            counter += 1\n",
    "\n",
    "print(f\"'{targetStr}' appears {counter} times in the column '{columnName}'.\")\n"
   ]
  },
  {
   "cell_type": "code",
   "execution_count": 21,
   "metadata": {},
   "outputs": [
    {
     "name": "stdout",
     "output_type": "stream",
     "text": [
      "'Comedy' appears 45 times in the column 'genre'.\n"
     ]
    }
   ],
   "source": [
    "data = 'Top250.csv'\n",
    "columnName = 'genre'\n",
    "targetStr = 'Comedy'\n",
    "\n",
    "counter = 0\n",
    "\n",
    "with open(data, 'r') as csv_file:\n",
    "    csv_reader = csv.DictReader(csv_file)\n",
    "\n",
    "    for row in csv_reader:\n",
    "        if targetStr.lower() in row[columnName].lower():\n",
    "            counter += 1\n",
    "\n",
    "print(f\"'{targetStr}' appears {counter} times in the column '{columnName}'.\")\n"
   ]
  },
  {
   "cell_type": "code",
   "execution_count": 22,
   "metadata": {},
   "outputs": [
    {
     "name": "stdout",
     "output_type": "stream",
     "text": [
      "'Horror' appears 5 times in the column 'genre'.\n"
     ]
    }
   ],
   "source": [
    "data = 'Top250.csv'\n",
    "columnName = 'genre'\n",
    "targetStr = 'Horror'\n",
    "\n",
    "counter = 0\n",
    "\n",
    "with open(data, 'r') as csv_file:\n",
    "    csv_reader = csv.DictReader(csv_file)\n",
    "\n",
    "    for row in csv_reader:\n",
    "        if targetStr.lower() in row[columnName].lower():\n",
    "            counter += 1\n",
    "\n",
    "print(f\"'{targetStr}' appears {counter} times in the column '{columnName}'.\")\n"
   ]
  },
  {
   "cell_type": "code",
   "execution_count": 23,
   "metadata": {},
   "outputs": [
    {
     "name": "stdout",
     "output_type": "stream",
     "text": [
      "'Animation' appears 23 times in the column 'genre'.\n"
     ]
    }
   ],
   "source": [
    "data = 'Top250.csv'\n",
    "columnName = 'genre'\n",
    "targetStr = 'Animation'\n",
    "\n",
    "counter = 0\n",
    "\n",
    "with open(data, 'r') as csv_file:\n",
    "    csv_reader = csv.DictReader(csv_file)\n",
    "\n",
    "    for row in csv_reader:\n",
    "        if targetStr.lower() in row[columnName].lower():\n",
    "            counter += 1\n",
    "\n",
    "print(f\"'{targetStr}' appears {counter} times in the column '{columnName}'.\")\n"
   ]
  },
  {
   "cell_type": "code",
   "execution_count": 24,
   "metadata": {},
   "outputs": [
    {
     "name": "stdout",
     "output_type": "stream",
     "text": [
      "'Mystery' appears 31 times in the column 'genre'.\n"
     ]
    }
   ],
   "source": [
    "data = 'Top250.csv'\n",
    "columnName = 'genre'\n",
    "targetStr = 'Mystery'\n",
    "\n",
    "counter = 0\n",
    "\n",
    "with open(data, 'r') as csv_file:\n",
    "    csv_reader = csv.DictReader(csv_file)\n",
    "\n",
    "    for row in csv_reader:\n",
    "        if targetStr.lower() in row[columnName].lower():\n",
    "            counter += 1\n",
    "\n",
    "print(f\"'{targetStr}' appears {counter} times in the column '{columnName}'.\")\n"
   ]
  },
  {
   "cell_type": "code",
   "execution_count": 25,
   "metadata": {},
   "outputs": [
    {
     "name": "stdout",
     "output_type": "stream",
     "text": [
      "'Thriller' appears 30 times in the column 'genre'.\n"
     ]
    }
   ],
   "source": [
    "data = 'Top250.csv'\n",
    "columnName = 'genre'\n",
    "targetStr = 'Thriller'\n",
    "\n",
    "counter = 0\n",
    "\n",
    "with open(data, 'r') as csv_file:\n",
    "    csv_reader = csv.DictReader(csv_file)\n",
    "\n",
    "    for row in csv_reader:\n",
    "        if targetStr.lower() in row[columnName].lower():\n",
    "            counter += 1\n",
    "\n",
    "print(f\"'{targetStr}' appears {counter} times in the column '{columnName}'.\")\n"
   ]
  },
  {
   "cell_type": "code",
   "execution_count": 26,
   "metadata": {},
   "outputs": [
    {
     "name": "stdout",
     "output_type": "stream",
     "text": [
      "'War' appears 23 times in the column 'genre'.\n"
     ]
    }
   ],
   "source": [
    "data = 'Top250.csv'\n",
    "columnName = 'genre'\n",
    "targetStr = 'War'\n",
    "\n",
    "counter = 0\n",
    "\n",
    "with open(data, 'r') as csv_file:\n",
    "    csv_reader = csv.DictReader(csv_file)\n",
    "\n",
    "    for row in csv_reader:\n",
    "        if targetStr.lower() in row[columnName].lower():\n",
    "            counter += 1\n",
    "\n",
    "print(f\"'{targetStr}' appears {counter} times in the column '{columnName}'.\")\n"
   ]
  },
  {
   "cell_type": "code",
   "execution_count": 27,
   "metadata": {},
   "outputs": [
    {
     "name": "stdout",
     "output_type": "stream",
     "text": [
      "'Romance' appears 23 times in the column 'genre'.\n"
     ]
    }
   ],
   "source": [
    "data = 'Top250.csv'\n",
    "columnName = 'genre'\n",
    "targetStr = 'Romance'\n",
    "\n",
    "counter = 0\n",
    "\n",
    "with open(data, 'r') as csv_file:\n",
    "    csv_reader = csv.DictReader(csv_file)\n",
    "\n",
    "    for row in csv_reader:\n",
    "        if targetStr.lower() in row[columnName].lower():\n",
    "            counter += 1\n",
    "\n",
    "print(f\"'{targetStr}' appears {counter} times in the column '{columnName}'.\")\n"
   ]
  },
  {
   "cell_type": "code",
   "execution_count": 28,
   "metadata": {},
   "outputs": [
    {
     "name": "stdout",
     "output_type": "stream",
     "text": [
      "'Sci-Fi' appears 20 times in the column 'genre'.\n"
     ]
    }
   ],
   "source": [
    "data = 'Top250.csv'\n",
    "columnName = 'genre'\n",
    "targetStr = 'Sci-Fi'\n",
    "\n",
    "counter = 0\n",
    "\n",
    "with open(data, 'r') as csv_file:\n",
    "    csv_reader = csv.DictReader(csv_file)\n",
    "\n",
    "    for row in csv_reader:\n",
    "        if targetStr.lower() in row[columnName].lower():\n",
    "            counter += 1\n",
    "\n",
    "print(f\"'{targetStr}' appears {counter} times in the column '{columnName}'.\")\n"
   ]
  },
  {
   "cell_type": "code",
   "execution_count": 35,
   "metadata": {},
   "outputs": [
    {
     "data": {
      "image/png": "[encoded data removed]",
      "text/plain": [
       "<Figure size 720x432 with 1 Axes>"
      ]
     },
     "metadata": {
      "needs_background": "light"
     },
     "output_type": "display_data"
    }
   ],
   "source": [
    "genres = ['Action', 'Drama', 'Crime', 'Biography', 'History', 'Adventure', 'Family', 'Fantasy', 'Comedy', 'Horror', 'Animation', 'Mystery', 'Thriller', 'War', 'Romance', 'Sci-Fi']\n",
    "count = [50, 177, 51, 29, 10, 60, 13, 14, 45, 5, 23, 31, 30, 23, 23, 20]\n",
    "\n",
    "\n",
    "plt.figure(figsize=(10, 6))\n",
    "plt.bar(genres, count, color='skyblue')\n",
    "plt.xlabel('Movie Genre')\n",
    "plt.ylabel('Number of Movies')\n",
    "plt.title('Top 250 Movies Sorted by Genre')\n",
    "plt.xticks(rotation=45, ha='right') \n",
    "plt.yticks(range(0, max(count)+1, 10))\n",
    "\n",
    "\n",
    "plt.tight_layout()\n",
    "plt.show()\n"
   ]
  },
  {
   "cell_type": "code",
   "execution_count": null,
   "metadata": {},
   "outputs": [],
   "source": []
  }
 ],
 "metadata": {
  "kernelspec": {
   "display_name": "Python 3",
   "language": "python",
   "name": "python3"
  },
  "language_info": {
   "codemirror_mode": {
    "name": "ipython",
    "version": 3
   },
   "file_extension": ".py",
   "mimetype": "text/x-python",
   "name": "python",
   "nbconvert_exporter": "python",
   "pygments_lexer": "ipython3",
   "version": "3.6.10"
  }
 },
 "nbformat": 4,
 "nbformat_minor": 2
}
